{
  "nbformat": 4,
  "nbformat_minor": 0,
  "metadata": {
    "colab": {
      "provenance": []
    },
    "kernelspec": {
      "name": "python3",
      "display_name": "Python 3"
    },
    "language_info": {
      "name": "python"
    }
  },
  "cells": [
    {
      "cell_type": "code",
      "execution_count": null,
      "metadata": {
        "colab": {
          "base_uri": "https://localhost:8080/"
        },
        "id": "ms3vGkDbfdD1",
        "outputId": "a9c6c256-a8c3-423a-a5ca-46bb8659a833"
      },
      "outputs": [
        {
          "output_type": "stream",
          "name": "stdout",
          "text": [
            "Mounted at /content/drive\n"
          ]
        }
      ],
      "source": [
        "\n",
        "from google.colab import drive\n",
        "drive.mount('/content/drive')"
      ]
    },
    {
      "cell_type": "code",
      "source": [
        "!pip install soundfile"
      ],
      "metadata": {
        "colab": {
          "base_uri": "https://localhost:8080/"
        },
        "id": "sK4S6w8CfhYn",
        "outputId": "b46b05aa-6a73-49cc-e116-c705b5e36218"
      },
      "execution_count": null,
      "outputs": [
        {
          "output_type": "stream",
          "name": "stdout",
          "text": [
            "Looking in indexes: https://pypi.org/simple, https://us-python.pkg.dev/colab-wheels/public/simple/\n",
            "Requirement already satisfied: soundfile in /usr/local/lib/python3.10/dist-packages (0.12.1)\n",
            "Requirement already satisfied: cffi>=1.0 in /usr/local/lib/python3.10/dist-packages (from soundfile) (1.15.1)\n",
            "Requirement already satisfied: pycparser in /usr/local/lib/python3.10/dist-packages (from cffi>=1.0->soundfile) (2.21)\n"
          ]
        }
      ]
    },
    {
      "cell_type": "code",
      "source": [
        "import soundfile\n",
        "import numpy as np\n",
        "import librosa\n",
        "import glob\n",
        "import os\n",
        "from sklearn.model_selection import train_test_split\n",
        "\n",
        "# all emotions on RAVDESS dataset\n",
        "int2emotion = {\n",
        "    \"01\": \"neutral\",\n",
        "    \"02\": \"calm\",\n",
        "    \"03\": \"happy\",\n",
        "    \"04\": \"sad\",\n",
        "    \"05\": \"angry\",\n",
        "    \"06\": \"fearful\",\n",
        "    \"07\": \"disgust\",\n",
        "    \"08\": \"surprised\"\n",
        "}"
      ],
      "metadata": {
        "id": "10sFWwXhfh5v"
      },
      "execution_count": null,
      "outputs": []
    },
    {
      "cell_type": "code",
      "source": [
        "def extract_feature(file_name, **kwargs):\n",
        "    \"\"\"\n",
        "    Extract feature from audio file `file_name`\n",
        "        Features supported:\n",
        "            - MFCC (mfcc)\n",
        "            - Chroma (chroma)\n",
        "            - MEL Spectrogram Frequency (mel)\n",
        "            - Contrast (contrast)\n",
        "            - Tonnetz (tonnetz)\n",
        "        e.g:\n",
        "        `features = extract_feature(path, mel=True, mfcc=True)`\n",
        "    \"\"\"\n",
        "    mfcc = kwargs.get(\"mfcc\")\n",
        "    chroma = kwargs.get(\"chroma\")\n",
        "    mel = kwargs.get(\"mel\")\n",
        "    contrast = kwargs.get(\"contrast\")\n",
        "    tonnetz = kwargs.get(\"tonnetz\")\n",
        "    with soundfile.SoundFile(file_name) as sound_file:\n",
        "        X = sound_file.read(dtype=\"float32\")\n",
        "        sample_rate = sound_file.samplerate\n",
        "        if chroma or contrast:\n",
        "            stft = np.abs(librosa.stft(X))\n",
        "        result = np.array([])\n",
        "        if mfcc:\n",
        "            mfccs = np.mean(librosa.feature.mfcc(y=X, sr=sample_rate, n_mfcc=40).T, axis=0)\n",
        "            result = np.hstack((result, mfccs))\n",
        "        if chroma:\n",
        "            chroma = np.mean(librosa.feature.chroma_stft(S=stft, sr=sample_rate).T,axis=0)\n",
        "            result = np.hstack((result, chroma))\n",
        "        if mel:\n",
        "            mel = np.mean(librosa.feature.melspectrogram(y=X, sr=sample_rate).T,axis=0)\n",
        "            result = np.hstack((result, mel))\n",
        "        if contrast:\n",
        "            contrast = np.mean(librosa.feature.spectral_contrast(S=stft, sr=sample_rate).T,axis=0)\n",
        "            result = np.hstack((result, contrast))\n",
        "        if tonnetz:\n",
        "            tonnetz = np.mean(librosa.feature.tonnetz(y=librosa.effects.harmonic(X), sr=sample_rate).T,axis=0)\n",
        "            result = np.hstack((result, tonnetz))\n",
        "    return result"
      ],
      "metadata": {
        "id": "SMtgGPmFfvmC"
      },
      "execution_count": null,
      "outputs": []
    },
    {
      "cell_type": "code",
      "source": [
        "def load_data(fi, test_size=0.2):\n",
        "    X, y = [], []\n",
        "    try :\n",
        "      for file in (fi):\n",
        "          # get the base name of the audio file\n",
        "          basename = os.path.basename(file)\n",
        "          print(basename)\n",
        "          # get the emotion label\n",
        "          emotion = int2emotion[basename.split(\"-\")[2]]\n",
        "          #we allow only AVAILABLE_EMOTIONS we set\n",
        "          #if emotion not in AVAILABLE_EMOTIONS:\n",
        "              #continue\n",
        "          # extract speech features\n",
        "          features = extract_feature(file, mfcc=True, chroma=True, mel=True)\n",
        "          # add to data\n",
        "          X.append(features)\n",
        "          y.append(emotion)\n",
        "    except :\n",
        "         pass\n",
        "    # split the data to training and testing and return it\n",
        "    return train_test_split(np.array(X), y, test_size=test_size, random_state=7)"
      ],
      "metadata": {
        "id": "1MoxvT70fx5I"
      },
      "execution_count": null,
      "outputs": []
    },
    {
      "cell_type": "code",
      "source": [],
      "metadata": {
        "id": "SGKe_6U7iOU9"
      },
      "execution_count": null,
      "outputs": []
    },
    {
      "cell_type": "code",
      "source": [
        "# Directory containing the WAV files\n",
        "directory = \"/content/drive/MyDrive/audio_speech_actors_01-24/Actor_21\"\n",
        "\n",
        "# Get the file paths of all WAV files in the directory\n",
        "file_paths = glob.glob(os.path.join(directory, \"*.wav\"))\n",
        "\n",
        "\n",
        "X_train, X_test, y_train, y_test = load_data(file_paths, test_size=0.25)\n",
        "# print some details\n",
        "# number of samples in training data\n",
        "print(\"[+] Number of training samples:\", X_train.shape[0])\n",
        "# number of samples in testing data\n",
        "print(\"[+] Number of testing samples:\", X_test.shape[0])\n",
        "# number of features used\n",
        "# this is a vector of features extracted\n",
        "# using utils.extract_features() method\n",
        "print(\"[+] Number of features:\", X_train.shape[1])"
      ],
      "metadata": {
        "colab": {
          "base_uri": "https://localhost:8080/"
        },
        "id": "l-xCDMCCgMHI",
        "outputId": "f687496e-4cf2-4244-d6d1-65dfb0c7650a"
      },
      "execution_count": null,
      "outputs": [
        {
          "output_type": "stream",
          "name": "stdout",
          "text": [
            "03-01-02-01-02-01-21.wav\n",
            "03-01-02-01-01-01-21.wav\n",
            "03-01-01-01-02-01-21.wav\n",
            "03-01-01-01-01-02-21.wav\n",
            "03-01-02-01-01-02-21.wav\n",
            "03-01-01-01-01-01-21.wav\n",
            "03-01-01-01-02-02-21.wav\n",
            "03-01-05-01-01-01-21.wav\n",
            "03-01-02-01-02-02-21.wav\n",
            "03-01-05-01-02-02-21.wav\n",
            "03-01-03-02-01-01-21.wav\n",
            "03-01-07-01-02-01-21.wav\n",
            "03-01-02-02-02-02-21.wav\n",
            "03-01-04-01-01-01-21.wav\n",
            "03-01-06-02-01-02-21.wav\n",
            "03-01-04-02-02-02-21.wav\n",
            "03-01-07-01-01-02-21.wav\n",
            "03-01-04-01-02-01-21.wav\n",
            "03-01-06-01-02-02-21.wav\n",
            "03-01-05-02-02-02-21.wav\n",
            "03-01-07-01-01-01-21.wav\n",
            "03-01-03-01-02-02-21.wav\n",
            "03-01-03-02-01-02-21.wav\n",
            "03-01-05-01-02-01-21.wav\n",
            "03-01-07-01-02-02-21.wav\n",
            "03-01-06-02-02-02-21.wav\n",
            "03-01-05-02-02-01-21.wav\n",
            "03-01-06-01-02-01-21.wav\n",
            "03-01-07-02-01-01-21.wav\n",
            "03-01-08-01-01-01-21.wav\n",
            "03-01-06-01-01-02-21.wav\n",
            "03-01-08-01-02-01-21.wav\n",
            "03-01-04-02-02-01-21.wav\n",
            "03-01-03-01-01-02-21.wav\n",
            "03-01-07-02-02-01-21.wav\n",
            "03-01-06-02-01-01-21.wav\n",
            "03-01-04-01-02-02-21.wav\n",
            "03-01-05-01-01-02-21.wav\n",
            "03-01-03-01-02-01-21.wav\n",
            "03-01-04-01-01-02-21.wav\n",
            "03-01-02-02-02-01-21.wav\n",
            "03-01-02-02-01-02-21.wav\n",
            "03-01-08-02-01-02-21.wav\n",
            "03-01-08-02-01-01-21.wav\n",
            "03-01-07-02-01-02-21.wav\n",
            "03-01-02-02-01-01-21.wav\n",
            "03-01-05-02-01-01-21.wav\n",
            "03-01-08-01-01-02-21.wav\n",
            "03-01-06-01-01-01-21.wav\n",
            "03-01-07-02-02-02-21.wav\n",
            "03-01-03-02-02-02-21.wav\n",
            "03-01-04-02-01-02-21.wav\n",
            "03-01-05-02-01-02-21.wav\n",
            "03-01-04-02-01-01-21.wav\n",
            "03-01-06-02-02-01-21.wav\n",
            "03-01-08-01-02-02-21.wav\n",
            "03-01-03-01-01-01-21.wav\n",
            "03-01-03-02-02-01-21.wav\n",
            "03-01-08-02-02-02-21.wav\n",
            "03-01-08-02-02-01-21.wav\n",
            "[+] Number of training samples: 45\n",
            "[+] Number of testing samples: 15\n",
            "[+] Number of features: 180\n"
          ]
        }
      ]
    },
    {
      "cell_type": "code",
      "source": [
        "from sklearn.metrics import accuracy_score, classification_report, confusion_matrix\n",
        "from sklearn.svm import SVC\n",
        "svm_model_linear = SVC(kernel = 'rbf', C = 1).fit(X_train, y_train)\n",
        "svm_predictions = svm_model_linear.predict(X_test)\n",
        "\n",
        "\n",
        "print(accuracy_score(y_true=y_test,y_pred=svm_predictions))\n",
        "print(classification_report(y_test,svm_predictions))\n",
        "# creating a confusion matrix\n",
        "print(confusion_matrix(y_test, svm_predictions) )"
      ],
      "metadata": {
        "colab": {
          "base_uri": "https://localhost:8080/"
        },
        "id": "C6j6fjdnetKU",
        "outputId": "8411de38-b762-4b6b-8a24-3e1e130f28fa"
      },
      "execution_count": null,
      "outputs": [
        {
          "output_type": "stream",
          "name": "stdout",
          "text": [
            "0.2\n",
            "              precision    recall  f1-score   support\n",
            "\n",
            "       angry       0.12      1.00      0.22         1\n",
            "        calm       0.29      1.00      0.44         2\n",
            "     disgust       0.00      0.00      0.00         3\n",
            "     fearful       0.00      0.00      0.00         2\n",
            "       happy       0.00      0.00      0.00         2\n",
            "         sad       0.00      0.00      0.00         3\n",
            "   surprised       0.00      0.00      0.00         2\n",
            "\n",
            "    accuracy                           0.20        15\n",
            "   macro avg       0.06      0.29      0.10        15\n",
            "weighted avg       0.05      0.20      0.07        15\n",
            "\n",
            "[[1 0 0 0 0 0 0]\n",
            " [0 2 0 0 0 0 0]\n",
            " [1 2 0 0 0 0 0]\n",
            " [2 0 0 0 0 0 0]\n",
            " [1 1 0 0 0 0 0]\n",
            " [1 2 0 0 0 0 0]\n",
            " [2 0 0 0 0 0 0]]\n"
          ]
        },
        {
          "output_type": "stream",
          "name": "stderr",
          "text": [
            "/usr/local/lib/python3.10/dist-packages/sklearn/metrics/_classification.py:1344: UndefinedMetricWarning: Precision and F-score are ill-defined and being set to 0.0 in labels with no predicted samples. Use `zero_division` parameter to control this behavior.\n",
            "  _warn_prf(average, modifier, msg_start, len(result))\n",
            "/usr/local/lib/python3.10/dist-packages/sklearn/metrics/_classification.py:1344: UndefinedMetricWarning: Precision and F-score are ill-defined and being set to 0.0 in labels with no predicted samples. Use `zero_division` parameter to control this behavior.\n",
            "  _warn_prf(average, modifier, msg_start, len(result))\n",
            "/usr/local/lib/python3.10/dist-packages/sklearn/metrics/_classification.py:1344: UndefinedMetricWarning: Precision and F-score are ill-defined and being set to 0.0 in labels with no predicted samples. Use `zero_division` parameter to control this behavior.\n",
            "  _warn_prf(average, modifier, msg_start, len(result))\n"
          ]
        }
      ]
    },
    {
      "cell_type": "code",
      "source": [
        "from sklearn.metrics import accuracy_score, classification_report, confusion_matrix\n",
        "from sklearn.svm import SVC\n",
        "svm_model_linear = SVC(kernel = 'linear', C = 1).fit(X_train, y_train)\n",
        "svm_predictions = svm_model_linear.predict(X_test)\n",
        "\n",
        "\n",
        "print(accuracy_score(y_true=y_test,y_pred=svm_predictions))\n",
        "print(classification_report(y_test,svm_predictions))\n",
        "# creating a confusion matrix\n",
        "print(confusion_matrix(y_test, svm_predictions) )\n"
      ],
      "metadata": {
        "colab": {
          "base_uri": "https://localhost:8080/"
        },
        "id": "KqJA3gI2wNI6",
        "outputId": "08b01775-3836-4a67-d4b4-33e72a66d966"
      },
      "execution_count": null,
      "outputs": [
        {
          "output_type": "stream",
          "name": "stdout",
          "text": [
            "0.9333333333333333\n",
            "              precision    recall  f1-score   support\n",
            "\n",
            "       angry       1.00      1.00      1.00         1\n",
            "        calm       1.00      1.00      1.00         2\n",
            "     disgust       1.00      1.00      1.00         3\n",
            "     fearful       1.00      1.00      1.00         2\n",
            "       happy       1.00      1.00      1.00         2\n",
            "     neutral       0.00      0.00      0.00         0\n",
            "         sad       1.00      0.67      0.80         3\n",
            "   surprised       1.00      1.00      1.00         2\n",
            "\n",
            "    accuracy                           0.93        15\n",
            "   macro avg       0.88      0.83      0.85        15\n",
            "weighted avg       1.00      0.93      0.96        15\n",
            "\n",
            "[[1 0 0 0 0 0 0 0]\n",
            " [0 2 0 0 0 0 0 0]\n",
            " [0 0 3 0 0 0 0 0]\n",
            " [0 0 0 2 0 0 0 0]\n",
            " [0 0 0 0 2 0 0 0]\n",
            " [0 0 0 0 0 0 0 0]\n",
            " [0 0 0 0 0 1 2 0]\n",
            " [0 0 0 0 0 0 0 2]]\n"
          ]
        },
        {
          "output_type": "stream",
          "name": "stderr",
          "text": [
            "/usr/local/lib/python3.10/dist-packages/sklearn/metrics/_classification.py:1344: UndefinedMetricWarning: Recall and F-score are ill-defined and being set to 0.0 in labels with no true samples. Use `zero_division` parameter to control this behavior.\n",
            "  _warn_prf(average, modifier, msg_start, len(result))\n",
            "/usr/local/lib/python3.10/dist-packages/sklearn/metrics/_classification.py:1344: UndefinedMetricWarning: Recall and F-score are ill-defined and being set to 0.0 in labels with no true samples. Use `zero_division` parameter to control this behavior.\n",
            "  _warn_prf(average, modifier, msg_start, len(result))\n",
            "/usr/local/lib/python3.10/dist-packages/sklearn/metrics/_classification.py:1344: UndefinedMetricWarning: Recall and F-score are ill-defined and being set to 0.0 in labels with no true samples. Use `zero_division` parameter to control this behavior.\n",
            "  _warn_prf(average, modifier, msg_start, len(result))\n"
          ]
        }
      ]
    },
    {
      "cell_type": "code",
      "source": [
        "from sklearn.svm import SVC\n",
        "svm_model_linear = SVC().fit(X_train, y_train)\n",
        "svm_predictions = svm_model_linear.predict(X_test)\n",
        "\n",
        "\n",
        "print(accuracy_score(y_true=y_test,y_pred=svm_predictions))\n",
        "print(classification_report(y_test,svm_predictions))\n",
        "# creating a confusion matrix\n",
        "print(confusion_matrix(y_test, svm_predictions) )"
      ],
      "metadata": {
        "colab": {
          "base_uri": "https://localhost:8080/"
        },
        "id": "vMXwubJE0ELk",
        "outputId": "88b977b8-f629-4011-eb22-81a66c3a34d0"
      },
      "execution_count": null,
      "outputs": [
        {
          "output_type": "stream",
          "name": "stdout",
          "text": [
            "0.2\n",
            "              precision    recall  f1-score   support\n",
            "\n",
            "       angry       0.12      1.00      0.22         1\n",
            "        calm       0.29      1.00      0.44         2\n",
            "     disgust       0.00      0.00      0.00         3\n",
            "     fearful       0.00      0.00      0.00         2\n",
            "       happy       0.00      0.00      0.00         2\n",
            "         sad       0.00      0.00      0.00         3\n",
            "   surprised       0.00      0.00      0.00         2\n",
            "\n",
            "    accuracy                           0.20        15\n",
            "   macro avg       0.06      0.29      0.10        15\n",
            "weighted avg       0.05      0.20      0.07        15\n",
            "\n",
            "[[1 0 0 0 0 0 0]\n",
            " [0 2 0 0 0 0 0]\n",
            " [1 2 0 0 0 0 0]\n",
            " [2 0 0 0 0 0 0]\n",
            " [1 1 0 0 0 0 0]\n",
            " [1 2 0 0 0 0 0]\n",
            " [2 0 0 0 0 0 0]]\n"
          ]
        },
        {
          "output_type": "stream",
          "name": "stderr",
          "text": [
            "/usr/local/lib/python3.10/dist-packages/sklearn/metrics/_classification.py:1344: UndefinedMetricWarning: Precision and F-score are ill-defined and being set to 0.0 in labels with no predicted samples. Use `zero_division` parameter to control this behavior.\n",
            "  _warn_prf(average, modifier, msg_start, len(result))\n",
            "/usr/local/lib/python3.10/dist-packages/sklearn/metrics/_classification.py:1344: UndefinedMetricWarning: Precision and F-score are ill-defined and being set to 0.0 in labels with no predicted samples. Use `zero_division` parameter to control this behavior.\n",
            "  _warn_prf(average, modifier, msg_start, len(result))\n",
            "/usr/local/lib/python3.10/dist-packages/sklearn/metrics/_classification.py:1344: UndefinedMetricWarning: Precision and F-score are ill-defined and being set to 0.0 in labels with no predicted samples. Use `zero_division` parameter to control this behavior.\n",
            "  _warn_prf(average, modifier, msg_start, len(result))\n"
          ]
        }
      ]
    },
    {
      "cell_type": "code",
      "source": [
        "import pickle\n",
        "file=\"svm_model.pkl\"\n",
        "pickle.dump(svm_model_linear,open(file,'wb'))\n",
        "\n"
      ],
      "metadata": {
        "id": "xo7JZp38xzCr"
      },
      "execution_count": null,
      "outputs": []
    },
    {
      "cell_type": "code",
      "source": [
        "from google.colab import files\n",
        "files.download('svm_model.pkl')"
      ],
      "metadata": {
        "colab": {
          "base_uri": "https://localhost:8080/",
          "height": 17
        },
        "id": "OWwB3oVRz0rK",
        "outputId": "b56a9ebb-84bc-44fd-a8b8-4b48e9db9a35"
      },
      "execution_count": null,
      "outputs": [
        {
          "output_type": "display_data",
          "data": {
            "text/plain": [
              "<IPython.core.display.Javascript object>"
            ],
            "application/javascript": [
              "\n",
              "    async function download(id, filename, size) {\n",
              "      if (!google.colab.kernel.accessAllowed) {\n",
              "        return;\n",
              "      }\n",
              "      const div = document.createElement('div');\n",
              "      const label = document.createElement('label');\n",
              "      label.textContent = `Downloading \"${filename}\": `;\n",
              "      div.appendChild(label);\n",
              "      const progress = document.createElement('progress');\n",
              "      progress.max = size;\n",
              "      div.appendChild(progress);\n",
              "      document.body.appendChild(div);\n",
              "\n",
              "      const buffers = [];\n",
              "      let downloaded = 0;\n",
              "\n",
              "      const channel = await google.colab.kernel.comms.open(id);\n",
              "      // Send a message to notify the kernel that we're ready.\n",
              "      channel.send({})\n",
              "\n",
              "      for await (const message of channel.messages) {\n",
              "        // Send a message to notify the kernel that we're ready.\n",
              "        channel.send({})\n",
              "        if (message.buffers) {\n",
              "          for (const buffer of message.buffers) {\n",
              "            buffers.push(buffer);\n",
              "            downloaded += buffer.byteLength;\n",
              "            progress.value = downloaded;\n",
              "          }\n",
              "        }\n",
              "      }\n",
              "      const blob = new Blob(buffers, {type: 'application/binary'});\n",
              "      const a = document.createElement('a');\n",
              "      a.href = window.URL.createObjectURL(blob);\n",
              "      a.download = filename;\n",
              "      div.appendChild(a);\n",
              "      a.click();\n",
              "      div.remove();\n",
              "    }\n",
              "  "
            ]
          },
          "metadata": {}
        },
        {
          "output_type": "display_data",
          "data": {
            "text/plain": [
              "<IPython.core.display.Javascript object>"
            ],
            "application/javascript": [
              "download(\"download_53b43606-c55a-4bd9-9afc-3ff96c39e661\", \"svm_model.pkl\", 68080)"
            ]
          },
          "metadata": {}
        }
      ]
    },
    {
      "cell_type": "code",
      "source": [
        "pickled_model = pickle.load(open('svm_model.pkl', 'rb'))\n",
        "pickled_model.predict(X_test)"
      ],
      "metadata": {
        "colab": {
          "base_uri": "https://localhost:8080/"
        },
        "id": "u1aXY1WX_NN7",
        "outputId": "38a157df-72ff-4f07-fc8c-f86badbc1413"
      },
      "execution_count": null,
      "outputs": [
        {
          "output_type": "execute_result",
          "data": {
            "text/plain": [
              "array(['angry', 'angry', 'angry', 'calm', 'angry', 'calm', 'calm',\n",
              "       'angry', 'calm', 'angry', 'angry', 'calm', 'calm', 'calm', 'angry'],\n",
              "      dtype='<U9')"
            ]
          },
          "metadata": {},
          "execution_count": 12
        }
      ]
    }
  ]
}